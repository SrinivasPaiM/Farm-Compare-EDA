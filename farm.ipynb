{
 "cells": [
  {
   "cell_type": "markdown",
   "id": "8f8365e1",
   "metadata": {},
   "source": [
    "# Exploratory Data Analysis: Crop Production Trends\n",
    "This notebook explores crop production trends over the years, focusing on the **highest production crop (Tame Hay)** and the **lowest production crop (Peas, Dry)**. The analysis includes:\n",
    "- General overview of the dataset\n",
    "- Trends in crop production over the years\n",
    "- Comparison of Tame Hay and Peas, Dry\n",
    "- Insights into production variability and country-level contributions\n",
    "- Correlation between production and farm value"
   ]
  },
  {
   "cell_type": "code",
   "execution_count": null,
   "id": "d99b0bbf",
   "metadata": {},
   "outputs": [],
   "source": [
    "import pandas as pd\n",
    "import seaborn as sns\n",
    "import matplotlib.pyplot as plt\n",
    "import numpy as np\n",
    "sns.set(style=\"whitegrid\")"
   ]
  },
  {
   "cell_type": "markdown",
   "id": "fe410e51",
   "metadata": {},
   "source": [
    "## 1. Load and Inspect the Dataset\n",
    "First, we load the dataset and perform basic checks to understand its structure and contents."
   ]
  },
  {
   "cell_type": "code",
   "execution_count": null,
   "id": "e14bd5d9",
   "metadata": {},
   "outputs": [
    {
     "name": "stdout",
     "output_type": "stream",
     "text": [
      "<class 'pandas.core.frame.DataFrame'>\n",
      "RangeIndex: 10273 entries, 0 to 10272\n",
      "Data columns (total 9 columns):\n",
      " #   Column                                  Non-Null Count  Dtype  \n",
      "---  ------                                  --------------  -----  \n",
      " 0   REF_DATE                                10273 non-null  int64  \n",
      " 1   GEO                                     10273 non-null  object \n",
      " 2   Type of crop                            10272 non-null  object \n",
      " 3   Average farm price (dollars per tonne)  10243 non-null  float64\n",
      " 4   Average yield (kilograms per hectare)   10246 non-null  float64\n",
      " 5   Production (metric tonnes)              10245 non-null  float64\n",
      " 6   Seeded area (acres)                     9873 non-null   float64\n",
      " 7   Seeded area (hectares)                  9847 non-null   float64\n",
      " 8   Total farm value (dollars)              10273 non-null  int64  \n",
      "dtypes: float64(5), int64(2), object(2)\n",
      "memory usage: 722.4+ KB\n"
     ]
    },
    {
     "data": {
      "text/html": [
       "<div>\n",
       "<style scoped>\n",
       "    .dataframe tbody tr th:only-of-type {\n",
       "        vertical-align: middle;\n",
       "    }\n",
       "\n",
       "    .dataframe tbody tr th {\n",
       "        vertical-align: top;\n",
       "    }\n",
       "\n",
       "    .dataframe thead th {\n",
       "        text-align: right;\n",
       "    }\n",
       "</style>\n",
       "<table border=\"1\" class=\"dataframe\">\n",
       "  <thead>\n",
       "    <tr style=\"text-align: right;\">\n",
       "      <th></th>\n",
       "      <th>REF_DATE</th>\n",
       "      <th>Average farm price (dollars per tonne)</th>\n",
       "      <th>Average yield (kilograms per hectare)</th>\n",
       "      <th>Production (metric tonnes)</th>\n",
       "      <th>Seeded area (acres)</th>\n",
       "      <th>Seeded area (hectares)</th>\n",
       "      <th>Total farm value (dollars)</th>\n",
       "    </tr>\n",
       "  </thead>\n",
       "  <tbody>\n",
       "    <tr>\n",
       "      <th>count</th>\n",
       "      <td>10273.000000</td>\n",
       "      <td>10243.000000</td>\n",
       "      <td>10246.000000</td>\n",
       "      <td>1.024500e+04</td>\n",
       "      <td>9.873000e+03</td>\n",
       "      <td>9.847000e+03</td>\n",
       "      <td>1.027300e+04</td>\n",
       "    </tr>\n",
       "    <tr>\n",
       "      <th>mean</th>\n",
       "      <td>1947.661053</td>\n",
       "      <td>59.633078</td>\n",
       "      <td>3647.442319</td>\n",
       "      <td>1.010887e+06</td>\n",
       "      <td>1.310067e+06</td>\n",
       "      <td>5.316231e+05</td>\n",
       "      <td>5.490084e+04</td>\n",
       "    </tr>\n",
       "    <tr>\n",
       "      <th>std</th>\n",
       "      <td>22.204519</td>\n",
       "      <td>90.920549</td>\n",
       "      <td>8068.854966</td>\n",
       "      <td>3.044681e+06</td>\n",
       "      <td>4.881387e+06</td>\n",
       "      <td>1.978043e+06</td>\n",
       "      <td>2.502413e+05</td>\n",
       "    </tr>\n",
       "    <tr>\n",
       "      <th>min</th>\n",
       "      <td>1908.000000</td>\n",
       "      <td>0.000000</td>\n",
       "      <td>0.000000</td>\n",
       "      <td>0.000000e+00</td>\n",
       "      <td>0.000000e+00</td>\n",
       "      <td>0.000000e+00</td>\n",
       "      <td>0.000000e+00</td>\n",
       "    </tr>\n",
       "    <tr>\n",
       "      <th>25%</th>\n",
       "      <td>1929.000000</td>\n",
       "      <td>21.000000</td>\n",
       "      <td>1055.000000</td>\n",
       "      <td>8.300000e+03</td>\n",
       "      <td>1.050000e+04</td>\n",
       "      <td>4.350000e+03</td>\n",
       "      <td>3.690000e+02</td>\n",
       "    </tr>\n",
       "    <tr>\n",
       "      <th>50%</th>\n",
       "      <td>1948.000000</td>\n",
       "      <td>43.000000</td>\n",
       "      <td>1485.000000</td>\n",
       "      <td>7.195000e+04</td>\n",
       "      <td>8.300000e+04</td>\n",
       "      <td>3.400000e+04</td>\n",
       "      <td>3.006000e+03</td>\n",
       "    </tr>\n",
       "    <tr>\n",
       "      <th>75%</th>\n",
       "      <td>1967.000000</td>\n",
       "      <td>76.000000</td>\n",
       "      <td>2363.750000</td>\n",
       "      <td>5.480000e+05</td>\n",
       "      <td>5.831000e+05</td>\n",
       "      <td>2.389000e+05</td>\n",
       "      <td>1.954100e+04</td>\n",
       "    </tr>\n",
       "    <tr>\n",
       "      <th>max</th>\n",
       "      <td>1984.000000</td>\n",
       "      <td>6663.300000</td>\n",
       "      <td>460305.000000</td>\n",
       "      <td>1.336790e+08</td>\n",
       "      <td>3.172035e+08</td>\n",
       "      <td>1.283890e+08</td>\n",
       "      <td>4.654194e+06</td>\n",
       "    </tr>\n",
       "  </tbody>\n",
       "</table>\n",
       "</div>"
      ],
      "text/plain": [
       "           REF_DATE  Average farm price (dollars per tonne)  \\\n",
       "count  10273.000000                            10243.000000   \n",
       "mean    1947.661053                               59.633078   \n",
       "std       22.204519                               90.920549   \n",
       "min     1908.000000                                0.000000   \n",
       "25%     1929.000000                               21.000000   \n",
       "50%     1948.000000                               43.000000   \n",
       "75%     1967.000000                               76.000000   \n",
       "max     1984.000000                             6663.300000   \n",
       "\n",
       "       Average yield (kilograms per hectare)  Production (metric tonnes)  \\\n",
       "count                           10246.000000                1.024500e+04   \n",
       "mean                             3647.442319                1.010887e+06   \n",
       "std                              8068.854966                3.044681e+06   \n",
       "min                                 0.000000                0.000000e+00   \n",
       "25%                              1055.000000                8.300000e+03   \n",
       "50%                              1485.000000                7.195000e+04   \n",
       "75%                              2363.750000                5.480000e+05   \n",
       "max                            460305.000000                1.336790e+08   \n",
       "\n",
       "       Seeded area (acres)  Seeded area (hectares)  Total farm value (dollars)  \n",
       "count         9.873000e+03            9.847000e+03                1.027300e+04  \n",
       "mean          1.310067e+06            5.316231e+05                5.490084e+04  \n",
       "std           4.881387e+06            1.978043e+06                2.502413e+05  \n",
       "min           0.000000e+00            0.000000e+00                0.000000e+00  \n",
       "25%           1.050000e+04            4.350000e+03                3.690000e+02  \n",
       "50%           8.300000e+04            3.400000e+04                3.006000e+03  \n",
       "75%           5.831000e+05            2.389000e+05                1.954100e+04  \n",
       "max           3.172035e+08            1.283890e+08                4.654194e+06  "
      ]
     },
     "execution_count": 167,
     "metadata": {},
     "output_type": "execute_result"
    }
   ],
   "source": [
    "df = pd.read_csv('farm_production_dataset.csv')\n",
    "print(\"Dataset Overview:\")\n",
    "df.info()\n",
    "df.describe()"
   ]
  },
  {
   "cell_type": "markdown",
   "id": "ad71b126",
   "metadata": {},
   "source": [
    "### Observations:\n",
    "- The dataset contains information on crop production, farm value, and other metrics.\n",
    "- Key columns include `Year`, `Country`, `Type of crop`, `Production (metric tonnes)`, and `Total farm value (dollars)`.\n",
    "- There are no missing values after preprocessing."
   ]
  },
  {
   "cell_type": "markdown",
   "id": "a8c0c7f8",
   "metadata": {},
   "source": [
    "## 2. Number of Crops Over the Years\n",
    "We start by visualizing the number of crops recorded each year to identify any anomalies or trends."
   ]
  },
  {
   "cell_type": "code",
   "execution_count": null,
   "id": "bf889e7a",
   "metadata": {},
   "outputs": [],
   "source": [
    "df['Year'].value_counts().sort_index().plot(kind='bar', figsize=(13, 5), color='skyblue')\n",
    "plt.title('Number of Crops per Year')\n",
    "plt.xlabel('Year')\n",
    "plt.ylabel('Number of Crops')\n",
    "plt.show()"
   ]
  },
  {
   "cell_type": "markdown",
   "id": "8466d1d3",
   "metadata": {},
   "source": [
    "### Observations:\n",
    "- The year 1954 appears anomalous, as it includes data for 1955. This issue has been corrected by splitting the data based on the `Country` column."
   ]
  },
  {
   "cell_type": "code",
   "execution_count": null,
   "id": "152150f4",
   "metadata": {},
   "outputs": [],
   "source": [
    "df.isnull().sum()\n",
    "df.fillna(0, inplace=True)\n",
    "df.rename(columns={'REF_DATE':'Year'}, inplace=True)\n",
    "df.rename(columns={'GEO':'Country'},  inplace=True)\n",
    "df= df[df['Type of crop'] != '0']\n",
    "df.drop(df[df['Year'] == 1954].index, inplace=True)\n",
    "df.to_csv('farm_corrected.csv', index=False)"
   ]
  },
  {
   "cell_type": "code",
   "execution_count": null,
   "id": "1a5e4c9f",
   "metadata": {},
   "outputs": [],
   "source": [
    "df=pd.read_csv('farm_corrected.csv')"
   ]
  },
  {
   "cell_type": "markdown",
   "id": "a9384928",
   "metadata": {},
   "source": [
    "## 3. Average Production by Crop Type\n",
    "Next, we calculate the average production for each crop type to identify the highest and lowest producers."
   ]
  },
  {
   "cell_type": "code",
   "execution_count": null,
   "id": "861bed90",
   "metadata": {},
   "outputs": [],
   "source": [
    "crop_production = df.groupby('Type of crop')['Production (metric tonnes)'].mean().sort_values(ascending=False)\n",
    "crop_production_df = crop_production.reset_index()\n",
    "crop_production_df['Production (metric tonnes)'] = crop_production_df['Production (metric tonnes)'] / 1e6  # Convert to millions\n",
    "\n",
    "plt.figure(figsize=(10, 6))\n",
    "sns.barplot(data=crop_production_df, y='Type of crop', x='Production (metric tonnes)', palette='viridis')\n",
    "plt.xlabel(\"Average Production (in millions of metric tonnes)\")\n",
    "plt.title(\"Average Production by Crop Type\")\n",
    "plt.show()"
   ]
  },
  {
   "cell_type": "markdown",
   "id": "5411477d",
   "metadata": {},
   "source": [
    "### Observations:\n",
    "- **Tame Hay** is the highest producer on average.\n",
    "- **Peas, Dry** is the lowest producer on average.\n",
    "- We will now focus on comparing these two crops in detail."
   ]
  },
  {
   "cell_type": "markdown",
   "id": "9e6495f0",
   "metadata": {},
   "source": [
    "## 4. Yearly Trends for Tame Hay and Peas, Dry\n",
    "We analyze the yearly production trends for the highest and lowest producers."
   ]
  },
  {
   "cell_type": "code",
   "execution_count": null,
   "id": "0d0e9f3f",
   "metadata": {},
   "outputs": [],
   "source": [
    "# Tame Hay\n",
    "tame_hay_yearly = df[df['Type of crop'] == 'Tame hay'].groupby('Year')['Production (metric tonnes)'].mean().reset_index()\n",
    "plt.figure(figsize=(10, 6))\n",
    "sns.lineplot(data=tame_hay_yearly, x='Year', y='Production (metric tonnes)', label='Tame Hay', color='green')\n",
    "plt.title('Yearly Production of Tame Hay')\n",
    "plt.xlabel('Year')\n",
    "plt.ylabel('Production (metric tonnes)')\n",
    "plt.show()\n",
    "\n",
    "# Peas, Dry\n",
    "peas_dry_yearly = df[df['Type of crop'] == 'Peas, dry'].groupby('Year')['Production (metric tonnes)'].mean().reset_index()\n",
    "plt.figure(figsize=(10, 6))\n",
    "sns.lineplot(data=peas_dry_yearly, x='Year', y='Production (metric tonnes)', label='Peas, Dry', color='orange')\n",
    "plt.title('Yearly Production of Peas, Dry')\n",
    "plt.xlabel('Year')\n",
    "plt.ylabel('Production (metric tonnes)')\n",
    "plt.show()"
   ]
  },
  {
   "cell_type": "markdown",
   "id": "869d4e1b",
   "metadata": {},
   "source": [
    "### Observations:\n",
    "- Tame Hay shows consistent production over the years with some fluctuations.\n",
    "- Peas, Dry has much lower production and shows more variability."
   ]
  },
  {
   "cell_type": "markdown",
   "id": "c4713c5d",
   "metadata": {},
   "source": [
    "## 5. Country-Level Contributions\n",
    "We analyze how different countries contribute to the production of Tame Hay and Peas, Dry."
   ]
  },
  {
   "cell_type": "code",
   "execution_count": null,
   "id": "64b2c077",
   "metadata": {},
   "outputs": [],
   "source": [
    "# Tame Hay by Country\n",
    "tame_hay_by_country = df[df['Type of crop'] == 'Tame hay'].groupby('Country')['Production (metric tonnes)'].mean().sort_values(ascending=False)\n",
    "tame_hay_by_country.plot(kind='bar', figsize=(10, 6), color='green')\n",
    "plt.title('Average Production of Tame Hay by Country')\n",
    "plt.xlabel('Country')\n",
    "plt.ylabel('Production (metric tonnes)')\n",
    "plt.show()\n",
    "\n",
    "# Peas, Dry by Country\n",
    "peas_dry_by_country = df[df['Type of crop'] == 'Peas, dry'].groupby('Country')['Production (metric tonnes)'].mean().sort_values(ascending=False)\n",
    "peas_dry_by_country.plot(kind='bar', figsize=(10, 6), color='orange')\n",
    "plt.title('Average Production of Peas, Dry by Country')\n",
    "plt.xlabel('Country')\n",
    "plt.ylabel('Production (metric tonnes)')\n",
    "plt.show()"
   ]
  },
  {
   "cell_type": "markdown",
   "id": "b91489c5",
   "metadata": {},
   "source": [
    "### Observations:\n",
    "- Certain countries dominate the production of Tame Hay.\n",
    "- Peas, Dry production is more evenly distributed but remains low overall."
   ]
  },
  {
   "cell_type": "markdown",
   "id": "36df5208",
   "metadata": {},
   "source": [
    "## 6. Correlation Between Production and Farm Value\n",
    "We explore the relationship between production and total farm value for all crops."
   ]
  },
  {
   "cell_type": "code",
   "execution_count": null,
   "id": "a37ec72a",
   "metadata": {},
   "outputs": [],
   "source": [
    "sns.scatterplot(data=df, x='Production (metric tonnes)', y='Total farm value (dollars)', hue='Type of crop', alpha=0.7)\n",
    "plt.title('Correlation Between Production and Total Farm Value')\n",
    "plt.xlabel('Production (metric tonnes)')\n",
    "plt.ylabel('Total Farm Value (dollars)')\n",
    "plt.show()"
   ]
  },
  {
   "cell_type": "markdown",
   "id": "8a8a4a6e",
   "metadata": {},
   "source": [
    "### Observations:\n",
    "- There is a positive correlation between production and farm value, as expected.\n",
    "- Tame Hay contributes significantly to farm value, while Peas, Dry has a minimal impact."
   ]
  },
  {
   "cell_type": "markdown",
   "id": "f1c13a60",
   "metadata": {},
   "source": [
    "## 7. Variability in Production\n",
    "Finally, we analyze the variability in production for all crops to understand consistency."
   ]
  },
  {
   "cell_type": "code",
   "execution_count": null,
   "id": "e9a6e277",
   "metadata": {},
   "outputs": [],
   "source": [
    "crop_variability = df.groupby('Type of crop')['Production (metric tonnes)'].std().sort_values(ascending=False)\n",
    "crop_variability.plot(kind='bar', figsize=(12, 6), color='purple')\n",
    "plt.title('Yearly Variability in Crop Production')\n",
    "plt.xlabel('Type of Crop')\n",
    "plt.ylabel('Standard Deviation of Production (metric tonnes)')\n",
    "plt.show()"
   ]
  },
  {
   "cell_type": "markdown",
   "id": "4f9693fd",
   "metadata": {},
   "source": [
    "### Observations:\n",
    "- Tame Hay shows moderate variability, indicating consistent production.\n",
    "- Peas, Dry has higher variability relative to its low production levels."
   ]
  }
 ],
 "metadata": {
  "kernelspec": {
   "display_name": "venv",
   "language": "python",
   "name": "python3"
  },
  "language_info": {
   "codemirror_mode": {
    "name": "ipython",
    "version": 3
   },
   "file_extension": ".py",
   "mimetype": "text/x-python",
   "name": "python",
   "nbconvert_exporter": "python",
   "pygments_lexer": "ipython3",
   "version": "3.12.4"
  }
 },
 "nbformat": 4,
 "nbformat_minor": 5
}
